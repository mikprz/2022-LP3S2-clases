{
 "cells": [
  {
   "cell_type": "markdown",
   "id": "e1824453",
   "metadata": {},
   "source": [
    "# SEMANA 03\n",
    "Prado Zuta, Miguel Angel"
   ]
  },
  {
   "cell_type": "markdown",
   "id": "28434133",
   "metadata": {},
   "source": [
    "# Temas:\n",
    "    1. Números\n",
    "    2. Variables\n",
    "    3. Manejo de cadenas\n",
    "    4. Ingreso de datos por el teclado\n",
    "    5. Operadores"
   ]
  },
  {
   "cell_type": "markdown",
   "id": "76a1f6fe",
   "metadata": {},
   "source": [
    "4. Ingreso de datos por el teclado"
   ]
  },
  {
   "cell_type": "code",
   "execution_count": null,
   "id": "67b769aa",
   "metadata": {},
   "outputs": [],
   "source": [
    "#Funcion input()\n",
    "print(\"¿Cuál es tu nombre?\")\n",
    "nombre = input()\n",
    "print(\"Hola\" + nombre)"
   ]
  },
  {
   "cell_type": "code",
   "execution_count": null,
   "id": "eaa2a876",
   "metadata": {},
   "outputs": [],
   "source": []
  },
  {
   "cell_type": "code",
   "execution_count": null,
   "id": "c1352a22",
   "metadata": {},
   "outputs": [],
   "source": [
    "#Cuando ingresa un valor por el teclado lo hace como cadena\n",
    "print(\"numero 1: \")\n",
    "numero1 = input()\n",
    "print(\"numero 2: \")\n",
    "numero2 = input()\n",
    "numero3 = int(numero1) + int(numero2)\n",
    "print(f\"El resultado es {numero3}\")"
   ]
  },
  {
   "cell_type": "code",
   "execution_count": null,
   "id": "f6f34e34",
   "metadata": {},
   "outputs": [],
   "source": []
  }
 ],
 "metadata": {
  "kernelspec": {
   "display_name": "Python 3 (ipykernel)",
   "language": "python",
   "name": "python3"
  },
  "language_info": {
   "codemirror_mode": {
    "name": "ipython",
    "version": 3
   },
   "file_extension": ".py",
   "mimetype": "text/x-python",
   "name": "python",
   "nbconvert_exporter": "python",
   "pygments_lexer": "ipython3",
   "version": "3.9.12"
  }
 },
 "nbformat": 4,
 "nbformat_minor": 5
}
