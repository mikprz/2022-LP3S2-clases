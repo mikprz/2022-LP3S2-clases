{
 "cells": [
  {
   "cell_type": "markdown",
   "id": "49ae1051",
   "metadata": {},
   "source": [
    "# SEMANA 05\n",
    "Miguel Angel Prado Zuta"
   ]
  },
  {
   "cell_type": "raw",
   "id": "68ce13c8",
   "metadata": {},
   "source": [
    "Temas:\n",
    "    1. Colecciones de datos\n",
    "    2. Estructuras decisivas y estructuras repetitivas\n",
    "    3. Clases y objetos\n",
    "    4. Funciones"
   ]
  },
  {
   "cell_type": "raw",
   "id": "c9dbb027",
   "metadata": {},
   "source": [
    "1. Colecciones"
   ]
  },
  {
   "cell_type": "code",
   "execution_count": 1,
   "id": "6dd9f302",
   "metadata": {},
   "outputs": [
    {
     "name": "stdout",
     "output_type": "stream",
     "text": [
      "['Huaman', 'Pineda', 'Luque', 'Cachay']\n"
     ]
    }
   ],
   "source": [
    "# 1.1. Listas\n",
    "# Es una colección delementos que puede ser ordenada, modificada, etc...\n",
    "# Se identifica por los corchetes\n",
    "# Ejemplo:\n",
    "aula = ['Huaman','Pineda','Luque','Cachay']\n",
    "print(aula)"
   ]
  },
  {
   "cell_type": "code",
   "execution_count": 2,
   "id": "f5e039bb",
   "metadata": {},
   "outputs": [
    {
     "data": {
      "text/plain": [
       "['Huaman', 'Pineda', 'Luque', 'Cachay']"
      ]
     },
     "execution_count": 2,
     "metadata": {},
     "output_type": "execute_result"
    }
   ],
   "source": [
    "aula"
   ]
  },
  {
   "cell_type": "code",
   "execution_count": 3,
   "id": "705659b1",
   "metadata": {},
   "outputs": [
    {
     "name": "stdout",
     "output_type": "stream",
     "text": [
      "Huaman\n",
      "Pineda\n"
     ]
    }
   ],
   "source": [
    "# Podemos extraer cada elemento por su posición\n",
    "print(aula[0])\n",
    "print(aula[1])"
   ]
  },
  {
   "cell_type": "code",
   "execution_count": 4,
   "id": "baf63dba",
   "metadata": {},
   "outputs": [
    {
     "data": {
      "text/plain": [
       "'Soto'"
      ]
     },
     "execution_count": 4,
     "metadata": {},
     "output_type": "execute_result"
    }
   ],
   "source": [
    "# Puedo asignar un valor a una posición de la lista\n",
    "aula[1] = 'Soto'\n",
    "aula[1]"
   ]
  },
  {
   "cell_type": "code",
   "execution_count": 5,
   "id": "517d85d6",
   "metadata": {},
   "outputs": [
    {
     "data": {
      "text/plain": [
       "['Huaman', 'Soto', 'Luque', 'Cachay']"
      ]
     },
     "execution_count": 5,
     "metadata": {},
     "output_type": "execute_result"
    }
   ],
   "source": [
    "# Mostramos como quedó la Lista\n",
    "aula"
   ]
  },
  {
   "cell_type": "code",
   "execution_count": 6,
   "id": "66eff38d",
   "metadata": {},
   "outputs": [],
   "source": [
    "# Para agregar un elemento utilizamos append\n",
    "aula.append(\"Llanos\")\n",
    "aula.append(\"Luque\")"
   ]
  },
  {
   "cell_type": "code",
   "execution_count": 7,
   "id": "2886c47f",
   "metadata": {},
   "outputs": [
    {
     "data": {
      "text/plain": [
       "['Huaman', 'Soto', 'Luque', 'Cachay', 'Llanos', 'Luque']"
      ]
     },
     "execution_count": 7,
     "metadata": {},
     "output_type": "execute_result"
    }
   ],
   "source": [
    "aula"
   ]
  },
  {
   "cell_type": "code",
   "execution_count": 8,
   "id": "a55ca694",
   "metadata": {
    "scrolled": false
   },
   "outputs": [],
   "source": [
    "# Para eliminar elemtentos utilizamos remove[]\n",
    "aula.remove(\"Huaman\")"
   ]
  },
  {
   "cell_type": "code",
   "execution_count": 9,
   "id": "92019e73",
   "metadata": {},
   "outputs": [
    {
     "data": {
      "text/plain": [
       "['Soto', 'Luque', 'Cachay', 'Llanos', 'Luque']"
      ]
     },
     "execution_count": 9,
     "metadata": {},
     "output_type": "execute_result"
    }
   ],
   "source": [
    "aula"
   ]
  },
  {
   "cell_type": "code",
   "execution_count": 10,
   "id": "4bfb7cd3",
   "metadata": {},
   "outputs": [
    {
     "data": {
      "text/plain": [
       "['Soto', 'Cachay', 'Llanos', 'Luque']"
      ]
     },
     "execution_count": 10,
     "metadata": {},
     "output_type": "execute_result"
    }
   ],
   "source": [
    "# Si hubiera varios elementos de valores iguales se elimina La primera coincidencia\n",
    "aula.remove(\"Luque\")\n",
    "aula"
   ]
  },
  {
   "cell_type": "code",
   "execution_count": 11,
   "id": "9850e902",
   "metadata": {},
   "outputs": [
    {
     "data": {
      "text/plain": [
       "4"
      ]
     },
     "execution_count": 11,
     "metadata": {},
     "output_type": "execute_result"
    }
   ],
   "source": [
    "# Para obtener el tamaño utilizamos len()\n",
    "len(aula)"
   ]
  },
  {
   "cell_type": "code",
   "execution_count": 12,
   "id": "82bb35c9",
   "metadata": {},
   "outputs": [
    {
     "name": "stdout",
     "output_type": "stream",
     "text": [
      "Soto\n",
      "Cachay\n",
      "Llanos\n",
      "Luque\n"
     ]
    }
   ],
   "source": [
    "for alumno in aula:\n",
    "    print(alumno)"
   ]
  },
  {
   "cell_type": "code",
   "execution_count": 13,
   "id": "c713bb5b",
   "metadata": {},
   "outputs": [
    {
     "data": {
      "text/plain": [
       "['Luque', 'Llanos', 'Cachay', 'Soto']"
      ]
     },
     "execution_count": 13,
     "metadata": {},
     "output_type": "execute_result"
    }
   ],
   "source": [
    "# Para invertir La lista utilizamos reverse()\n",
    "#Invertir NO significa ordenar en forma descendente sin invertir La Lista\n",
    "aula.reverse()\n",
    "aula"
   ]
  },
  {
   "cell_type": "code",
   "execution_count": 14,
   "id": "a06c3592",
   "metadata": {},
   "outputs": [
    {
     "data": {
      "text/plain": [
       "['Cachay', 'Llanos', 'Luque', 'Soto']"
      ]
     },
     "execution_count": 14,
     "metadata": {},
     "output_type": "execute_result"
    }
   ],
   "source": [
    "# Para ordenar una  lista utilizamos sort()\n",
    "aula.sort()\n",
    "aula"
   ]
  },
  {
   "cell_type": "code",
   "execution_count": 15,
   "id": "2d8a4a41",
   "metadata": {},
   "outputs": [
    {
     "data": {
      "text/plain": [
       "['Huaman', 'Pineda', 'Luque', 'Cachay']"
      ]
     },
     "execution_count": 15,
     "metadata": {},
     "output_type": "execute_result"
    }
   ],
   "source": [
    "# 1.2 Tuplas\n",
    "# Es una colección de elemntos ordenada (Ordenado significa que tiene un indice) que no se puede modificar\n",
    "# No se pueden agregar elementos ni eliminar\n",
    "# Se identifica por los paréntesos\n",
    "tupla_aula=['Huaman','Pineda','Luque','Cachay']\n",
    "tupla_aula"
   ]
  },
  {
   "cell_type": "code",
   "execution_count": 16,
   "id": "4684554a",
   "metadata": {},
   "outputs": [
    {
     "data": {
      "text/plain": [
       "'Luque'"
      ]
     },
     "execution_count": 16,
     "metadata": {},
     "output_type": "execute_result"
    }
   ],
   "source": [
    "# Se puede extraer un elemnto por su posición\n",
    "tupla_aula[2]"
   ]
  },
  {
   "cell_type": "code",
   "execution_count": 17,
   "id": "1a1d903d",
   "metadata": {},
   "outputs": [
    {
     "data": {
      "text/plain": [
       "4"
      ]
     },
     "execution_count": 17,
     "metadata": {},
     "output_type": "execute_result"
    }
   ],
   "source": [
    "# Para saber la cantidad de elementos de una tupla utilizamos len()\n",
    "len(tupla_aula)"
   ]
  },
  {
   "cell_type": "code",
   "execution_count": 18,
   "id": "231fcc9b",
   "metadata": {},
   "outputs": [
    {
     "data": {
      "text/plain": [
       "{'Cachay', 'Huaman', 'Luque', 'Pineda'}"
      ]
     },
     "execution_count": 18,
     "metadata": {},
     "output_type": "execute_result"
    }
   ],
   "source": [
    "# 1.3 Conjuntos\n",
    "# Es una coleciónm de elemnos que no está ordenadao (Significa que no tiene un índice)\n",
    "conjunto_aula = {'Huaman','Pineda','Luque','Cachay'}\n",
    "conjunto_aula"
   ]
  },
  {
   "cell_type": "code",
   "execution_count": 19,
   "id": "f8c543a4",
   "metadata": {},
   "outputs": [
    {
     "name": "stdout",
     "output_type": "stream",
     "text": [
      "Luque\n",
      "Cachay\n",
      "Pineda\n",
      "Huaman\n"
     ]
    }
   ],
   "source": [
    "for alumno in conjunto_aula:\n",
    "    print(alumno)"
   ]
  },
  {
   "cell_type": "code",
   "execution_count": 20,
   "id": "ebff84c4",
   "metadata": {},
   "outputs": [],
   "source": [
    "# Observación: No se puede acceder por posición pues no considera indeacion\n",
    "# Por ejemplo_\n",
    "# conjunto_aula[2]"
   ]
  },
  {
   "cell_type": "code",
   "execution_count": 21,
   "id": "e5c7638b",
   "metadata": {},
   "outputs": [
    {
     "data": {
      "text/plain": [
       "4"
      ]
     },
     "execution_count": 21,
     "metadata": {},
     "output_type": "execute_result"
    }
   ],
   "source": [
    "# Para saber la cantidad de elemntos utilizamos len()\n",
    "len(conjunto_aula)"
   ]
  },
  {
   "cell_type": "code",
   "execution_count": 22,
   "id": "f7bfb68d",
   "metadata": {},
   "outputs": [
    {
     "data": {
      "text/plain": [
       "{'Baldeon', 'Cachay', 'Huaman', 'Luque', 'Pineda'}"
      ]
     },
     "execution_count": 22,
     "metadata": {},
     "output_type": "execute_result"
    }
   ],
   "source": [
    "# Para agregar utilizamos la función add()\n",
    "conjunto_aula.add(\"Baldeon\")\n",
    "conjunto_aula"
   ]
  },
  {
   "cell_type": "code",
   "execution_count": 23,
   "id": "f9e6a944",
   "metadata": {},
   "outputs": [
    {
     "data": {
      "text/plain": [
       "{'Baldeon', 'Huaman', 'Luque', 'Pineda'}"
      ]
     },
     "execution_count": 23,
     "metadata": {},
     "output_type": "execute_result"
    }
   ],
   "source": [
    "# Para eliminar elementos utilizamos la funcion remove()\n",
    "conjunto_aula.remove(\"Cachay\")\n",
    "conjunto_aula"
   ]
  },
  {
   "cell_type": "code",
   "execution_count": 24,
   "id": "00f9ec19",
   "metadata": {},
   "outputs": [
    {
     "data": {
      "text/plain": [
       "{2: 'Baldeon', '1': 'Cachay', 'dos': 'Huaman', '3': 'Luque', '0': 'Pineda'}"
      ]
     },
     "execution_count": 24,
     "metadata": {},
     "output_type": "execute_result"
    }
   ],
   "source": [
    "# 1.4 Diccionarios\n",
    "# Es una coleccion de elementos, que están indexados, no está ordenados y se pueden modificar\n",
    "# Son escritos entre llaves y están formados por pares de elementos INDICE:VALOR\n",
    "diccionario_aula = {2:'Baldeon','1':'Cachay','dos':'Huaman','3':'Luque','0':'Pineda'}\n",
    "diccionario_aula"
   ]
  },
  {
   "cell_type": "code",
   "execution_count": 25,
   "id": "360950b0",
   "metadata": {},
   "outputs": [
    {
     "data": {
      "text/plain": [
       "'Pineda'"
      ]
     },
     "execution_count": 25,
     "metadata": {},
     "output_type": "execute_result"
    }
   ],
   "source": [
    "diccionario_aula[\"0\"]"
   ]
  },
  {
   "cell_type": "code",
   "execution_count": 26,
   "id": "58edef56",
   "metadata": {},
   "outputs": [
    {
     "data": {
      "text/plain": [
       "'Baldeon'"
      ]
     },
     "execution_count": 26,
     "metadata": {},
     "output_type": "execute_result"
    }
   ],
   "source": [
    "diccionario_aula[2]"
   ]
  },
  {
   "cell_type": "code",
   "execution_count": 27,
   "id": "d9ae877a",
   "metadata": {},
   "outputs": [
    {
     "data": {
      "text/plain": [
       "'Cachay'"
      ]
     },
     "execution_count": 27,
     "metadata": {},
     "output_type": "execute_result"
    }
   ],
   "source": [
    "diccionario_aula[\"1\"]"
   ]
  },
  {
   "cell_type": "code",
   "execution_count": 28,
   "id": "0c0f71cc",
   "metadata": {},
   "outputs": [
    {
     "data": {
      "text/plain": [
       "'Huaman'"
      ]
     },
     "execution_count": 28,
     "metadata": {},
     "output_type": "execute_result"
    }
   ],
   "source": [
    "diccionario_aula[\"dos\"]"
   ]
  },
  {
   "cell_type": "code",
   "execution_count": 29,
   "id": "3f500fec",
   "metadata": {},
   "outputs": [],
   "source": [
    "# Para añadir un par de elemntos la diccionario hacemos:\n",
    "diccionario_aula['20']= \"Prado\""
   ]
  },
  {
   "cell_type": "code",
   "execution_count": 30,
   "id": "28685ea7",
   "metadata": {},
   "outputs": [
    {
     "data": {
      "text/plain": [
       "{2: 'Baldeon',\n",
       " '1': 'Cachay',\n",
       " 'dos': 'Huaman',\n",
       " '3': 'Luque',\n",
       " '0': 'Pineda',\n",
       " '20': 'Prado'}"
      ]
     },
     "execution_count": 30,
     "metadata": {},
     "output_type": "execute_result"
    }
   ],
   "source": [
    "diccionario_aula"
   ]
  },
  {
   "cell_type": "code",
   "execution_count": 31,
   "id": "76d08980",
   "metadata": {},
   "outputs": [
    {
     "data": {
      "text/plain": [
       "{'1': 'Cachay', 'dos': 'Huaman', '3': 'Luque', '0': 'Pineda', '20': 'Prado'}"
      ]
     },
     "execution_count": 31,
     "metadata": {},
     "output_type": "execute_result"
    }
   ],
   "source": [
    "# Para eliminar un valor se utiliza pop()\n",
    "# Por ejemplo, eliminar mi elemento de indice dos. Ejemplo: Para eliminar a Baldeon que tendríamos que hacer\n",
    "diccionario_aula.pop(2)\n",
    "diccionario_aula"
   ]
  },
  {
   "cell_type": "code",
   "execution_count": 32,
   "id": "f1fbd7bc",
   "metadata": {},
   "outputs": [
    {
     "data": {
      "text/plain": [
       "{'1': 'Cachay', '3': 'Luque', '0': 'Pineda', '20': 'Prado'}"
      ]
     },
     "execution_count": 32,
     "metadata": {},
     "output_type": "execute_result"
    }
   ],
   "source": [
    "# Tambien se puede eliminar utilizando del()\n",
    "del(diccionario_aula[\"dos\"])\n",
    "diccionario_aula"
   ]
  },
  {
   "cell_type": "code",
   "execution_count": 33,
   "id": "4bee8ebd",
   "metadata": {},
   "outputs": [
    {
     "name": "stdout",
     "output_type": "stream",
     "text": [
      "1\n",
      "3\n",
      "0\n",
      "20\n"
     ]
    }
   ],
   "source": [
    "# Para recorrer todos los elementos podemos utilizar for\n",
    "# En este ejemplo  devuelve los índices\n",
    "for indice in diccionario_aula:\n",
    "    print(indice)"
   ]
  },
  {
   "cell_type": "code",
   "execution_count": 34,
   "id": "4d79d08a",
   "metadata": {},
   "outputs": [
    {
     "name": "stdout",
     "output_type": "stream",
     "text": [
      "1 Cachay\n",
      "3 Luque\n",
      "0 Pineda\n",
      "20 Prado\n"
     ]
    }
   ],
   "source": [
    "# Para obtener el indice y el valor de cada elemento utilizamos items()\n",
    "for indice,valor in diccionario_aula.items():\n",
    "    print(indice,valor)"
   ]
  },
  {
   "cell_type": "code",
   "execution_count": 35,
   "id": "0e8ed049",
   "metadata": {},
   "outputs": [],
   "source": [
    "# 1.5 Ejercicio\n",
    "# Dado una lista[AQUINO, ARCOS, BALDEON, BARZOLA, BELLO, CACHAY, CARRASCO, CIRIACO, DELGADO, GAYOSO, GONZALES, GRANADOS, HUAMAN, LLANOS,LUQUE, PINEDA, PRADO, QUIJAHUAMAN, QUISPE ,RAKAUSKAS, RAMOS, ROJAS, SOTO,ZARATE]\n",
    "# Diseñar un código que muestre si el apellido de un estudiante ingresado por el teclado forma parte de la lista\n",
    "# Tiempo: 10 minutos"
   ]
  },
  {
   "cell_type": "code",
   "execution_count": 36,
   "id": "b715daf8",
   "metadata": {},
   "outputs": [],
   "source": [
    "lista = ['AQUINO', 'ARCOS', 'BALDEON', 'BAROLA', 'BELLO', 'CACHAY', 'CARRASCO', 'CIRIACO', 'DELGADO', 'GAYOSO', 'GONZALES', 'GRANADOS', 'HUAMAN','LLANOS','LUQUE', 'PINEDA', 'PRADO', 'QUIJAHUAMAN', 'QUISPE' ,'RAKAUSKAS', 'RAMOS', 'ROJAS', 'SOTO','ZARATE']"
   ]
  },
  {
   "cell_type": "code",
   "execution_count": 37,
   "id": "f7834c7e",
   "metadata": {},
   "outputs": [
    {
     "name": "stdout",
     "output_type": "stream",
     "text": [
      "Escribe un apellido: PRADO\n"
     ]
    }
   ],
   "source": [
    "# Escribe un apellido:\n",
    "apellido = input(\"Escribe un apellido: \")"
   ]
  },
  {
   "cell_type": "code",
   "execution_count": 38,
   "id": "8451b26b",
   "metadata": {},
   "outputs": [
    {
     "name": "stdout",
     "output_type": "stream",
     "text": [
      "El apellido PRADO se encuentra en la lista\n"
     ]
    }
   ],
   "source": [
    "if apellido in lista:\n",
    "    print(f\"El apellido {apellido} se encuentra en la lista\")\n",
    "else:\n",
    "    print(f\"El apellido {apellido} NO se encuentra en la lista\")"
   ]
  },
  {
   "cell_type": "code",
   "execution_count": 39,
   "id": "90ff24f1",
   "metadata": {},
   "outputs": [],
   "source": [
    "# if\n",
    "# Problema: Dado el precio de 3 productos ingresados por el teclado, aplicar un descuento del 10% si la venta es mayor\n",
    "# o igual a 1000"
   ]
  },
  {
   "cell_type": "code",
   "execution_count": null,
   "id": "3d517866",
   "metadata": {},
   "outputs": [],
   "source": [
    "# Solucion\n",
    "P1 = float(input(\"Producto 1: \"))\n",
    "P2 = float(input(\"Producto 2: \"))\n",
    "P3 = float(input(\"Producto 3: \"))\n",
    "total = P1 + P2 + P3\n",
    "if total >= 1000:\n",
    "    total *= 0.9\n",
    "print(f\"El total a pagar es: {total}\")"
   ]
  },
  {
   "cell_type": "code",
   "execution_count": null,
   "id": "21d4ab44",
   "metadata": {},
   "outputs": [],
   "source": [
    "# IF ELSE"
   ]
  },
  {
   "cell_type": "code",
   "execution_count": null,
   "id": "67b9a4de",
   "metadata": {},
   "outputs": [],
   "source": [
    "# Problema 02\n",
    "# Dado el importe total de ventas ralizadas por un trabajador (Ingresado por teclado)\n",
    "# Categorizar que tipo de empleado es, considerando la siguiente tabla\n",
    "\n",
    "# Categoría: A ->[1,1000]\n",
    "# Categoria: B ->[1000,2000]\n",
    "# Categoria: C ->[2000,5000]\n",
    "# Categoria: D ->[5000,Más]\n",
    "# Tiempo: 10 minutos"
   ]
  },
  {
   "cell_type": "code",
   "execution_count": 1,
   "id": "89dd1621",
   "metadata": {},
   "outputs": [
    {
     "name": "stdout",
     "output_type": "stream",
     "text": [
      "Ingrese el monto del importe: 2000\n"
     ]
    }
   ],
   "source": [
    "importe = input(\"Ingrese el monto del importe: \")"
   ]
  },
  {
   "cell_type": "code",
   "execution_count": 7,
   "id": "1078ed9b",
   "metadata": {},
   "outputs": [],
   "source": [
    "importe = int(importe)"
   ]
  },
  {
   "cell_type": "code",
   "execution_count": 10,
   "id": "be332240",
   "metadata": {},
   "outputs": [
    {
     "name": "stdout",
     "output_type": "stream",
     "text": [
      "Usted pertenece a la categoría B\n"
     ]
    }
   ],
   "source": [
    "if importe >= 1 and importe <= 1000:\n",
    "    print(\"Usted pertenece a la categoría A\")\n",
    "elif importe >= 1000 and importe <= 2000:\n",
    "    print(\"Usted pertenece a la categoría B\")\n",
    "elif importe >= 2000 and importe <= 5000:\n",
    "    print(\"Usted pertenece a la categoría C\")\n",
    "elif importe >= 5000:\n",
    "    print(\"Usted pertenece a la categoría D\")\n",
    "else:\n",
    "    print(\"Debe ingresar un importe razonable\")"
   ]
  },
  {
   "cell_type": "code",
   "execution_count": 11,
   "id": "590ddf51",
   "metadata": {},
   "outputs": [],
   "source": [
    "# 2.2 Estructuras Repetitivas\n",
    "# for\n",
    "# Problema 01:\n",
    "# Mostrar los elementos de una lista utilizando for"
   ]
  },
  {
   "cell_type": "code",
   "execution_count": 13,
   "id": "3baac645",
   "metadata": {},
   "outputs": [
    {
     "name": "stdout",
     "output_type": "stream",
     "text": [
      "Carrasco\n",
      "Navarro\n",
      "Gonzales\n",
      "Aquino\n"
     ]
    }
   ],
   "source": [
    "# Solucion\n",
    "aula = [\"Carrasco\",\"Navarro\",\"Gonzales\",\"Aquino\"]\n",
    "\n",
    "# Por cada alumno que está en la lista, imprimir alumno\n",
    "for alumno in aula:\n",
    "    print(alumno)"
   ]
  },
  {
   "cell_type": "code",
   "execution_count": 14,
   "id": "6418af87",
   "metadata": {},
   "outputs": [
    {
     "name": "stdout",
     "output_type": "stream",
     "text": [
      "0\n",
      "1\n",
      "2\n",
      "3\n",
      "4\n",
      "5\n",
      "6\n",
      "7\n",
      "8\n",
      "9\n"
     ]
    }
   ],
   "source": [
    "# Imprimir los números de 0 a 10, utilizando for\n",
    "for numero in range(10):\n",
    "    print(numero)"
   ]
  },
  {
   "cell_type": "code",
   "execution_count": 3,
   "id": "0f86c785",
   "metadata": {},
   "outputs": [],
   "source": [
    "# También funcionan los buicles anidados:\n",
    "# PROBLEMA 05\n",
    "# DADO UNA LISTA DE NÚMEROS, UTILIZANDO EL ALGORITMO BURBUJA ORDENARLOS DE MENOR A MAYOR\n",
    "# LISTA: [10,20,5,-10,100,0,50,17,2000,-1000,0]"
   ]
  },
  {
   "cell_type": "code",
   "execution_count": 5,
   "id": "df6a0dc6",
   "metadata": {},
   "outputs": [
    {
     "data": {
      "text/plain": [
       "[10, 20, 5, -10, 100, 0, 50, 17, 2000, -1000, 0]"
      ]
     },
     "execution_count": 5,
     "metadata": {},
     "output_type": "execute_result"
    }
   ],
   "source": [
    "lista_burbuja = [10,20,5,-10,100,0,50,17,2000,-1000,0]\n",
    "lista_burbuja"
   ]
  },
  {
   "cell_type": "code",
   "execution_count": 10,
   "id": "2a8c2ac2",
   "metadata": {},
   "outputs": [
    {
     "data": {
      "text/plain": [
       "[-1000, -10, 0, 5, 10, 17, 20, 50, 100, 2000, 0]"
      ]
     },
     "execution_count": 10,
     "metadata": {},
     "output_type": "execute_result"
    }
   ],
   "source": [
    "for x in range(len(lista_burbuja)-1):\n",
    "    for y in range(len(lista_burbuja)-2):\n",
    "        if lista_burbuja[y] > lista_burbuja[y+1]:\n",
    "            aux = lista_burbuja[y]\n",
    "            lista_burbuja[y] = lista_burbuja[y+1]\n",
    "            lista_burbuja[y+1] = aux\n",
    "\n",
    "lista_burbuja"
   ]
  },
  {
   "cell_type": "code",
   "execution_count": null,
   "id": "ed60a91c",
   "metadata": {},
   "outputs": [],
   "source": []
  }
 ],
 "metadata": {
  "kernelspec": {
   "display_name": "Python 3 (ipykernel)",
   "language": "python",
   "name": "python3"
  },
  "language_info": {
   "codemirror_mode": {
    "name": "ipython",
    "version": 3
   },
   "file_extension": ".py",
   "mimetype": "text/x-python",
   "name": "python",
   "nbconvert_exporter": "python",
   "pygments_lexer": "ipython3",
   "version": "3.9.12"
  }
 },
 "nbformat": 4,
 "nbformat_minor": 5
}
